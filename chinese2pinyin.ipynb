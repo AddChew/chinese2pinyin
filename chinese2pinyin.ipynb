{
 "cells": [
  {
   "cell_type": "markdown",
   "metadata": {},
   "source": [
    "Test Cases"
   ]
  },
  {
   "cell_type": "code",
   "execution_count": 1,
   "metadata": {},
   "outputs": [],
   "source": [
    "case1 = \"劉凱明\"\n",
    "case2 = \"方麗珠\"\n",
    "case3 = \"賴偉駿\"\n",
    "case4 = \"陳勢安\"\n",
    "case5 = \"周傑倫\""
   ]
  },
  {
   "cell_type": "markdown",
   "metadata": {},
   "source": [
    "pinyin_jyutping_sentence"
   ]
  },
  {
   "cell_type": "code",
   "execution_count": 2,
   "metadata": {},
   "outputs": [
    {
     "name": "stderr",
     "output_type": "stream",
     "text": [
      "Building prefix dict from the default dictionary ...\n",
      "Loading model from cache /tmp/jieba.cache\n",
      "Loading model cost 0.917 seconds.\n",
      "Prefix dict has been built successfully.\n"
     ]
    },
    {
     "name": "stdout",
     "output_type": "stream",
     "text": [
      "liu kai ming\n",
      "fang li zhu\n",
      "lai wei jun\n",
      "chen shi an\n",
      "zhou jie lun\n"
     ]
    }
   ],
   "source": [
    "import pinyin_jyutping_sentence\n",
    "\n",
    "print(pinyin_jyutping_sentence.pinyin(case1, tone_numbers = True, spaces = True, remove_tones = True))\n",
    "print(pinyin_jyutping_sentence.pinyin(case2, tone_numbers = True, spaces = True, remove_tones = True))\n",
    "print(pinyin_jyutping_sentence.pinyin(case3, tone_numbers = True, spaces = True, remove_tones = True))\n",
    "print(pinyin_jyutping_sentence.pinyin(case4, tone_numbers = True, spaces = True, remove_tones = True))\n",
    "print(pinyin_jyutping_sentence.pinyin(case5, tone_numbers = True, spaces = True, remove_tones = True))"
   ]
  },
  {
   "cell_type": "markdown",
   "metadata": {},
   "source": [
    "pypinyin"
   ]
  },
  {
   "cell_type": "code",
   "execution_count": 3,
   "metadata": {},
   "outputs": [
    {
     "name": "stdout",
     "output_type": "stream",
     "text": [
      "['liu', 'kai', 'ming']\n",
      "['fang', 'li', 'zhu']\n",
      "['lai', 'wei', 'jun']\n",
      "['chen', 'shi', 'an']\n",
      "['zhou', 'jie', 'lun']\n"
     ]
    }
   ],
   "source": [
    "from pypinyin import lazy_pinyin\n",
    "\n",
    "print(lazy_pinyin(case1))\n",
    "print(lazy_pinyin(case2))\n",
    "print(lazy_pinyin(case3))\n",
    "print(lazy_pinyin(case4))\n",
    "print(lazy_pinyin(case5))"
   ]
  },
  {
   "cell_type": "markdown",
   "metadata": {},
   "source": [
    "pinyin"
   ]
  },
  {
   "cell_type": "code",
   "execution_count": 4,
   "metadata": {},
   "outputs": [
    {
     "name": "stdout",
     "output_type": "stream",
     "text": [
      "liu kai ming\n",
      "fang li zhu\n",
      "lai wei jun\n",
      "chen shi an\n",
      "zhou jie lun\n"
     ]
    }
   ],
   "source": [
    "import pinyin\n",
    "\n",
    "print(pinyin.get(case1, format = \"strip\", delimiter = \" \"))\n",
    "print(pinyin.get(case2, format = \"strip\", delimiter = \" \"))\n",
    "print(pinyin.get(case3, format = \"strip\", delimiter = \" \"))\n",
    "print(pinyin.get(case4, format = \"strip\", delimiter = \" \"))\n",
    "print(pinyin.get(case5, format = \"strip\", delimiter = \" \"))"
   ]
  }
 ],
 "metadata": {
  "kernelspec": {
   "display_name": "pinyin",
   "language": "python",
   "name": "python3"
  },
  "language_info": {
   "codemirror_mode": {
    "name": "ipython",
    "version": 3
   },
   "file_extension": ".py",
   "mimetype": "text/x-python",
   "name": "python",
   "nbconvert_exporter": "python",
   "pygments_lexer": "ipython3",
   "version": "3.9.19"
  }
 },
 "nbformat": 4,
 "nbformat_minor": 2
}
